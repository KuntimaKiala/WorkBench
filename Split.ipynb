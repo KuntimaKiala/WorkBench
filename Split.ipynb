{
 "cells": [
  {
   "cell_type": "markdown",
   "metadata": {},
   "source": [
    "# Split\n",
    "This file as two functions, they have the same as the result as vsplit and hsplit in numpy library for 2-D arrays"
   ]
  },
  {
   "cell_type": "code",
   "execution_count": 231,
   "metadata": {
    "collapsed": true
   },
   "outputs": [],
   "source": [
    "import numpy as np"
   ]
  },
  {
   "cell_type": "code",
   "execution_count": 248,
   "metadata": {
    "collapsed": true
   },
   "outputs": [],
   "source": [
    "def splitH(X,nb_split) :\n",
    "\n",
    "    #a=int(input('Digite : '))\n",
    "    \n",
    "    if nb_split != 0 :\n",
    "        end = int(X.shape[1]/nb_split)\n",
    "        step = end\n",
    "        X_Splitted = []\n",
    "        \n",
    "        if X.ndim == 2 and X.shape[1]%nb_split == 0 :\n",
    "            init=0\n",
    "            for i in range(nb_split) :\n",
    "                X_Splitted.append( X[:,init:end])\n",
    "                init  = end \n",
    "                end = end+step\n",
    "        else :\n",
    "            print ('Imposible to split') \n",
    "            \n",
    "    if nb_split == 0 or nb_split ==1 :\n",
    "        print (X)\n",
    "    \n",
    "    return X_Splitted[:]"
   ]
  },
  {
   "cell_type": "code",
   "execution_count": 249,
   "metadata": {
    "collapsed": false
   },
   "outputs": [],
   "source": [
    "def splitV(X, nb_split) :\n",
    "    \n",
    "    if nb_split != 0 :\n",
    "        end = int(X.shape[0]/nb_split)\n",
    "        step = end\n",
    "        X_Splitted = []\n",
    "        \n",
    "        if X.ndim == 2 and X.shape[0]%nb_split == 0 :\n",
    "            init=0\n",
    "            for i in range(nb_split) :\n",
    "                X_Splitted.append( X[init:end,:])\n",
    "                init  = end \n",
    "                end = end+step\n",
    "        else :\n",
    "            print ('Imposible to split')\n",
    "            \n",
    "    if nb_split  == 0 or nb_split ==1 :\n",
    "        print (X)\n",
    "    \n",
    "    return X_Splitted[:]\n",
    "    "
   ]
  },
  {
   "cell_type": "markdown",
   "metadata": {
    "collapsed": false
   },
   "source": [
    "# Test "
   ]
  },
  {
   "cell_type": "code",
   "execution_count": 273,
   "metadata": {
    "collapsed": false
   },
   "outputs": [],
   "source": [
    "A = np.arange(1,55,1).reshape(6,9)"
   ]
  },
  {
   "cell_type": "code",
   "execution_count": 274,
   "metadata": {
    "collapsed": false
   },
   "outputs": [],
   "source": [
    "cells = [splitH(splitted,3) for splitted in splitV(A,2) ]"
   ]
  },
  {
   "cell_type": "code",
   "execution_count": 275,
   "metadata": {
    "collapsed": false
   },
   "outputs": [
    {
     "data": {
      "text/plain": [
       "array([[ 1,  2,  3,  4,  5,  6,  7,  8,  9],\n",
       "       [10, 11, 12, 13, 14, 15, 16, 17, 18],\n",
       "       [19, 20, 21, 22, 23, 24, 25, 26, 27],\n",
       "       [28, 29, 30, 31, 32, 33, 34, 35, 36],\n",
       "       [37, 38, 39, 40, 41, 42, 43, 44, 45],\n",
       "       [46, 47, 48, 49, 50, 51, 52, 53, 54]])"
      ]
     },
     "execution_count": 275,
     "metadata": {},
     "output_type": "execute_result"
    }
   ],
   "source": [
    "A"
   ]
  },
  {
   "cell_type": "code",
   "execution_count": 276,
   "metadata": {
    "collapsed": false
   },
   "outputs": [
    {
     "data": {
      "text/plain": [
       "[[array([[ 1,  2,  3],\n",
       "         [10, 11, 12],\n",
       "         [19, 20, 21]]), array([[ 4,  5,  6],\n",
       "         [13, 14, 15],\n",
       "         [22, 23, 24]]), array([[ 7,  8,  9],\n",
       "         [16, 17, 18],\n",
       "         [25, 26, 27]])], [array([[28, 29, 30],\n",
       "         [37, 38, 39],\n",
       "         [46, 47, 48]]), array([[31, 32, 33],\n",
       "         [40, 41, 42],\n",
       "         [49, 50, 51]]), array([[34, 35, 36],\n",
       "         [43, 44, 45],\n",
       "         [52, 53, 54]])]]"
      ]
     },
     "execution_count": 276,
     "metadata": {},
     "output_type": "execute_result"
    }
   ],
   "source": [
    "cells"
   ]
  },
  {
   "cell_type": "markdown",
   "metadata": {
    "collapsed": false
   },
   "source": [
    "## Autor : Kuntima K. M.\n",
    "## Data : 10/02/2018\n"
   ]
  },
  {
   "cell_type": "code",
   "execution_count": null,
   "metadata": {
    "collapsed": false
   },
   "outputs": [],
   "source": []
  },
  {
   "cell_type": "code",
   "execution_count": null,
   "metadata": {
    "collapsed": false
   },
   "outputs": [],
   "source": []
  },
  {
   "cell_type": "code",
   "execution_count": null,
   "metadata": {
    "collapsed": false
   },
   "outputs": [],
   "source": []
  },
  {
   "cell_type": "code",
   "execution_count": null,
   "metadata": {
    "collapsed": false
   },
   "outputs": [],
   "source": []
  },
  {
   "cell_type": "code",
   "execution_count": null,
   "metadata": {
    "collapsed": false
   },
   "outputs": [],
   "source": []
  },
  {
   "cell_type": "code",
   "execution_count": null,
   "metadata": {
    "collapsed": false
   },
   "outputs": [],
   "source": []
  },
  {
   "cell_type": "code",
   "execution_count": null,
   "metadata": {
    "collapsed": true
   },
   "outputs": [],
   "source": []
  }
 ],
 "metadata": {
  "anaconda-cloud": {},
  "kernelspec": {
   "display_name": "Python [conda root]",
   "language": "python",
   "name": "conda-root-py"
  },
  "language_info": {
   "codemirror_mode": {
    "name": "ipython",
    "version": 3
   },
   "file_extension": ".py",
   "mimetype": "text/x-python",
   "name": "python",
   "nbconvert_exporter": "python",
   "pygments_lexer": "ipython3",
   "version": "3.5.2"
  }
 },
 "nbformat": 4,
 "nbformat_minor": 2
}
