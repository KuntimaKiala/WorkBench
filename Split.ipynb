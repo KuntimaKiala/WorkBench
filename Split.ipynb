{
 "cells": [
  {
   "cell_type": "markdown",
   "metadata": {},
   "source": [
    "# Split\n",
    "This file as two functions, they have the same functionality as vsplit and hsplit function in numpy library for 2-D arrays"
   ]
  },
  {
   "cell_type": "code",
   "execution_count": 59,
   "metadata": {
    "collapsed": true
   },
   "outputs": [],
   "source": [
    "import numpy as np"
   ]
  },
  {
   "cell_type": "code",
   "execution_count": 60,
   "metadata": {
    "collapsed": true
   },
   "outputs": [],
   "source": [
    "def splitH(X,nb_split) :\n",
    "    \n",
    "    if nb_split != 0 :\n",
    "        end = int(X.shape[1]/nb_split)\n",
    "        step = end\n",
    "        X_Splitted = []\n",
    "        \n",
    "        if X.ndim == 2 and X.shape[1]%nb_split == 0 :\n",
    "            init=0\n",
    "            for i in range(nb_split) :\n",
    "                X_Splitted.append( X[:,init:end])\n",
    "                init  = end \n",
    "                end = end+step\n",
    "        else :\n",
    "            print ('Imposible to split') \n",
    "            \n",
    "    if nb_split == 0 or nb_split ==1 :\n",
    "        print (X)\n",
    "    \n",
    "    return X_Splitted[:]"
   ]
  },
  {
   "cell_type": "code",
   "execution_count": 61,
   "metadata": {},
   "outputs": [],
   "source": [
    "def splitV(X, nb_split) :\n",
    "    \n",
    "    if nb_split != 0 :\n",
    "        end = int(X.shape[0]/nb_split)\n",
    "        step = end\n",
    "        X_Splitted = []\n",
    "        \n",
    "        if X.ndim == 2 and X.shape[0]%nb_split == 0 :\n",
    "            init=0\n",
    "            for i in range(nb_split) :\n",
    "                X_Splitted.append( X[init:end,:])\n",
    "                init  = end \n",
    "                end = end+step\n",
    "        else :\n",
    "            print ('Imposible to split')\n",
    "            \n",
    "    if nb_split  == 0 or nb_split ==1 :\n",
    "        print (X)\n",
    "    \n",
    "    return X_Splitted[:]\n",
    "    "
   ]
  },
  {
   "cell_type": "markdown",
   "metadata": {},
   "source": [
    "# Test "
   ]
  },
  {
   "cell_type": "code",
   "execution_count": 62,
   "metadata": {},
   "outputs": [],
   "source": [
    "A = np.arange(1,55,1).reshape(6,9)"
   ]
  },
  {
   "cell_type": "code",
   "execution_count": 63,
   "metadata": {},
   "outputs": [],
   "source": [
    "cells = [splitH(splitted,3) for splitted in splitV(A,2) ]"
   ]
  },
  {
   "cell_type": "code",
   "execution_count": 64,
   "metadata": {},
   "outputs": [
    {
     "data": {
      "text/plain": [
       "array([[ 1,  2,  3,  4,  5,  6,  7,  8,  9],\n",
       "       [10, 11, 12, 13, 14, 15, 16, 17, 18],\n",
       "       [19, 20, 21, 22, 23, 24, 25, 26, 27],\n",
       "       [28, 29, 30, 31, 32, 33, 34, 35, 36],\n",
       "       [37, 38, 39, 40, 41, 42, 43, 44, 45],\n",
       "       [46, 47, 48, 49, 50, 51, 52, 53, 54]])"
      ]
     },
     "execution_count": 64,
     "metadata": {},
     "output_type": "execute_result"
    }
   ],
   "source": [
    "A"
   ]
  },
  {
   "cell_type": "code",
   "execution_count": 65,
   "metadata": {},
   "outputs": [
    {
     "data": {
      "text/plain": [
       "(2, 3, 3, 3)"
      ]
     },
     "execution_count": 65,
     "metadata": {},
     "output_type": "execute_result"
    }
   ],
   "source": [
    "np.array(cells).shape"
   ]
  },
  {
   "cell_type": "markdown",
   "metadata": {},
   "source": [
    "## Autor : Kuntima K. M.\n",
    "## Data : 10/02/2018\n"
   ]
  },
  {
   "cell_type": "code",
   "execution_count": 66,
   "metadata": {},
   "outputs": [
    {
     "data": {
      "text/plain": [
       "[[array([[ 1,  2,  3],\n",
       "         [10, 11, 12],\n",
       "         [19, 20, 21]]), array([[ 4,  5,  6],\n",
       "         [13, 14, 15],\n",
       "         [22, 23, 24]]), array([[ 7,  8,  9],\n",
       "         [16, 17, 18],\n",
       "         [25, 26, 27]])], [array([[28, 29, 30],\n",
       "         [37, 38, 39],\n",
       "         [46, 47, 48]]), array([[31, 32, 33],\n",
       "         [40, 41, 42],\n",
       "         [49, 50, 51]]), array([[34, 35, 36],\n",
       "         [43, 44, 45],\n",
       "         [52, 53, 54]])]]"
      ]
     },
     "execution_count": 66,
     "metadata": {},
     "output_type": "execute_result"
    }
   ],
   "source": [
    "cells"
   ]
  },
  {
   "cell_type": "code",
   "execution_count": 67,
   "metadata": {},
   "outputs": [],
   "source": [
    "f = [i[:2] for i in cells]\n",
    "    \n",
    "    \n",
    "        "
   ]
  },
  {
   "cell_type": "code",
   "execution_count": 74,
   "metadata": {},
   "outputs": [
    {
     "data": {
      "text/plain": [
       "[array([[28, 29, 30],\n",
       "        [37, 38, 39],\n",
       "        [46, 47, 48]]), array([[31, 32, 33],\n",
       "        [40, 41, 42],\n",
       "        [49, 50, 51]])]"
      ]
     },
     "execution_count": 74,
     "metadata": {},
     "output_type": "execute_result"
    }
   ],
   "source": [
    "f[1]"
   ]
  },
  {
   "cell_type": "code",
   "execution_count": null,
   "metadata": {
    "collapsed": true
   },
   "outputs": [],
   "source": []
  }
 ],
 "metadata": {
  "anaconda-cloud": {},
  "kernelspec": {
   "display_name": "Python 2",
   "language": "python",
   "name": "python2"
  },
  "language_info": {
   "codemirror_mode": {
    "name": "ipython",
    "version": 2
   },
   "file_extension": ".py",
   "mimetype": "text/x-python",
   "name": "python",
   "nbconvert_exporter": "python",
   "pygments_lexer": "ipython2",
   "version": "2.7.13"
  }
 },
 "nbformat": 4,
 "nbformat_minor": 2
}
